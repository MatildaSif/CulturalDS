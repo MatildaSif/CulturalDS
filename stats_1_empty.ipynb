{
 "cells": [
  {
   "cell_type": "markdown",
   "id": "1a846cfe-d705-4f1f-866b-b4b370af384d",
   "metadata": {},
   "source": [
    "# Part 1 - The basics"
   ]
  },
  {
   "cell_type": "markdown",
   "id": "223204e5-f880-46d3-b81f-63e24071759b",
   "metadata": {},
   "source": [
    "R is just a calculator."
   ]
  },
  {
   "cell_type": "code",
   "execution_count": 1,
   "id": "21e221b0-07e2-49e1-b9a9-c3950d59cf3d",
   "metadata": {},
   "outputs": [
    {
     "data": {
      "text/html": [
       "6"
      ],
      "text/latex": [
       "6"
      ],
      "text/markdown": [
       "6"
      ],
      "text/plain": [
       "[1] 6"
      ]
     },
     "metadata": {},
     "output_type": "display_data"
    }
   ],
   "source": [
    "2+4"
   ]
  },
  {
   "cell_type": "code",
   "execution_count": 4,
   "id": "2a79f3f8-c9be-44d7-9db9-7f6a3a288472",
   "metadata": {},
   "outputs": [
    {
     "data": {
      "text/html": [
       "-3"
      ],
      "text/latex": [
       "-3"
      ],
      "text/markdown": [
       "-3"
      ],
      "text/plain": [
       "[1] -3"
      ]
     },
     "metadata": {},
     "output_type": "display_data"
    }
   ],
   "source": [
    "4-7"
   ]
  },
  {
   "cell_type": "markdown",
   "id": "5acd0cf3-6792-4e36-8e68-79c022c09f93",
   "metadata": {},
   "source": [
    "There is special syntax for multiplication and division."
   ]
  },
  {
   "cell_type": "code",
   "execution_count": null,
   "id": "b77555ea-1d89-4527-a565-5c1966606e2d",
   "metadata": {},
   "outputs": [],
   "source": [
    "12*4"
   ]
  },
  {
   "cell_type": "code",
   "execution_count": null,
   "id": "ef1d5efe-3dea-40dd-b96c-88ad80fb0a15",
   "metadata": {},
   "outputs": [],
   "source": [
    "3/2"
   ]
  },
  {
   "cell_type": "markdown",
   "id": "74e06cd4-c9cc-46cd-91eb-154947ae895a",
   "metadata": {},
   "source": [
    "We can also assign numbers to variables and to operations."
   ]
  },
  {
   "cell_type": "code",
   "execution_count": 6,
   "id": "ffbb4db1-36f8-4371-b860-b9e1136b93b7",
   "metadata": {},
   "outputs": [
    {
     "data": {
      "text/html": [
       "7"
      ],
      "text/latex": [
       "7"
      ],
      "text/markdown": [
       "7"
      ],
      "text/plain": [
       "[1] 7"
      ]
     },
     "metadata": {},
     "output_type": "display_data"
    }
   ],
   "source": [
    "A <- 4\n",
    "\n",
    "B <- 3\n",
    "\n",
    "A+B"
   ]
  },
  {
   "cell_type": "markdown",
   "id": "e849af61-59e4-4c22-8359-93fbf214c73b",
   "metadata": {},
   "source": [
    "A function is just something with an input and an output."
   ]
  },
  {
   "cell_type": "code",
   "execution_count": 8,
   "id": "61462036-ed36-4270-a768-fd130530865e",
   "metadata": {},
   "outputs": [
    {
     "data": {
      "text/html": [
       "7"
      ],
      "text/latex": [
       "7"
      ],
      "text/markdown": [
       "7"
      ],
      "text/plain": [
       "[1] 7"
      ]
     },
     "metadata": {},
     "output_type": "display_data"
    }
   ],
   "source": [
    "sum(4,3)"
   ]
  },
  {
   "cell_type": "code",
   "execution_count": 10,
   "id": "c5260e87-8683-4e6b-91ab-383c9637aa76",
   "metadata": {},
   "outputs": [
    {
     "data": {
      "text/html": [
       "2.23606797749979"
      ],
      "text/latex": [
       "2.23606797749979"
      ],
      "text/markdown": [
       "2.23606797749979"
      ],
      "text/plain": [
       "[1] 2.236068"
      ]
     },
     "metadata": {},
     "output_type": "display_data"
    }
   ],
   "source": [
    "sqrt(5)"
   ]
  },
  {
   "cell_type": "code",
   "execution_count": 11,
   "id": "fb639999-fa89-4031-965c-a0a18b8d2c36",
   "metadata": {},
   "outputs": [
    {
     "data": {
      "text/html": [
       "7"
      ],
      "text/latex": [
       "7"
      ],
      "text/markdown": [
       "7"
      ],
      "text/plain": [
       "[1] 7"
      ]
     },
     "metadata": {},
     "output_type": "display_data"
    }
   ],
   "source": [
    "sum(A,B)"
   ]
  },
  {
   "cell_type": "markdown",
   "id": "3e91f7cc-255b-48f4-ab57-eb7391ee4abb",
   "metadata": {},
   "source": [
    "# Part 2 - A bit more advanced"
   ]
  },
  {
   "cell_type": "markdown",
   "id": "248b1114-2884-4f05-bffc-56e160aea5cc",
   "metadata": {},
   "source": [
    "The nice thing about R is that unlike on a calculator, you can keep track of your operations. This is important for reproducing your work, and doing more complicated stuff. Let's look at some of this more complicated stuff!"
   ]
  },
  {
   "cell_type": "markdown",
   "id": "ac06ad57-0aeb-4026-94da-8c7c106cf4f5",
   "metadata": {},
   "source": [
    "We can assign lists of numbers to variables. This is called an array.\n",
    "'c' is just a function. It means 'concatenate'."
   ]
  },
  {
   "cell_type": "code",
   "execution_count": 75,
   "id": "4e6a29ac-95f4-4fb9-990b-8a62069bcd76",
   "metadata": {},
   "outputs": [],
   "source": [
    "A <- c(1, 2, 3, 4)\n",
    "B <- c(4, 7, 2, 8)"
   ]
  },
  {
   "cell_type": "markdown",
   "id": "c24e1454-776f-4daf-a99e-25200904b9ee",
   "metadata": {},
   "source": [
    "We can do operations on lists too, the same as for simpler variables.\n",
    "We can make a new variable in the process."
   ]
  },
  {
   "cell_type": "code",
   "execution_count": 76,
   "id": "aba7981c-75e6-4f6d-a5cf-9820890daa6b",
   "metadata": {},
   "outputs": [
    {
     "data": {
      "text/html": [
       "<style>\n",
       ".list-inline {list-style: none; margin:0; padding: 0}\n",
       ".list-inline>li {display: inline-block}\n",
       ".list-inline>li:not(:last-child)::after {content: \"\\00b7\"; padding: 0 .5ex}\n",
       "</style>\n",
       "<ol class=list-inline><li>5</li><li>9</li><li>5</li><li>12</li></ol>\n"
      ],
      "text/latex": [
       "\\begin{enumerate*}\n",
       "\\item 5\n",
       "\\item 9\n",
       "\\item 5\n",
       "\\item 12\n",
       "\\end{enumerate*}\n"
      ],
      "text/markdown": [
       "1. 5\n",
       "2. 9\n",
       "3. 5\n",
       "4. 12\n",
       "\n",
       "\n"
      ],
      "text/plain": [
       "[1]  5  9  5 12"
      ]
     },
     "metadata": {},
     "output_type": "display_data"
    }
   ],
   "source": [
    "C <- A + B\n",
    "\n",
    "C"
   ]
  },
  {
   "cell_type": "markdown",
   "id": "9bc9f880-9552-48c3-9e09-18c606f30a30",
   "metadata": {},
   "source": [
    "To see the output, you need to call the variable directly."
   ]
  },
  {
   "cell_type": "code",
   "execution_count": 77,
   "id": "2860fb03-b59f-414b-87a2-7f181486fee2",
   "metadata": {},
   "outputs": [
    {
     "data": {
      "text/html": [
       "<style>\n",
       ".list-inline {list-style: none; margin:0; padding: 0}\n",
       ".list-inline>li {display: inline-block}\n",
       ".list-inline>li:not(:last-child)::after {content: \"\\00b7\"; padding: 0 .5ex}\n",
       "</style>\n",
       "<ol class=list-inline><li>1</li><li>1.5</li><li>2</li><li>2.5</li><li>3</li><li>3.5</li><li>4</li><li>4.5</li><li>5</li></ol>\n"
      ],
      "text/latex": [
       "\\begin{enumerate*}\n",
       "\\item 1\n",
       "\\item 1.5\n",
       "\\item 2\n",
       "\\item 2.5\n",
       "\\item 3\n",
       "\\item 3.5\n",
       "\\item 4\n",
       "\\item 4.5\n",
       "\\item 5\n",
       "\\end{enumerate*}\n"
      ],
      "text/markdown": [
       "1. 1\n",
       "2. 1.5\n",
       "3. 2\n",
       "4. 2.5\n",
       "5. 3\n",
       "6. 3.5\n",
       "7. 4\n",
       "8. 4.5\n",
       "9. 5\n",
       "\n",
       "\n"
      ],
      "text/plain": [
       "[1] 1.0 1.5 2.0 2.5 3.0 3.5 4.0 4.5 5.0"
      ]
     },
     "metadata": {},
     "output_type": "display_data"
    }
   ],
   "source": [
    "A1 <- seq(1, 5, 0.5)\n",
    "# first number is lower no., second is highest no., last is the step interval)\n",
    "A1"
   ]
  },
  {
   "cell_type": "markdown",
   "id": "acfd0860-c27e-4e04-b5ba-ab599b7f9986",
   "metadata": {},
   "source": [
    "We can use other functions to make lists. We can make sequences..."
   ]
  },
  {
   "cell_type": "code",
   "execution_count": 78,
   "id": "df9fb366-73e2-41f9-95ae-dbb3c2cc57c3",
   "metadata": {},
   "outputs": [
    {
     "data": {
      "text/html": [
       "<style>\n",
       ".list-inline {list-style: none; margin:0; padding: 0}\n",
       ".list-inline>li {display: inline-block}\n",
       ".list-inline>li:not(:last-child)::after {content: \"\\00b7\"; padding: 0 .5ex}\n",
       "</style>\n",
       "<ol class=list-inline><li>3</li><li>3</li></ol>\n"
      ],
      "text/latex": [
       "\\begin{enumerate*}\n",
       "\\item 3\n",
       "\\item 3\n",
       "\\end{enumerate*}\n"
      ],
      "text/markdown": [
       "1. 3\n",
       "2. 3\n",
       "\n",
       "\n"
      ],
      "text/plain": [
       "[1] 3 3"
      ]
     },
     "metadata": {},
     "output_type": "display_data"
    },
    {
     "data": {
      "text/html": [
       "<style>\n",
       ".list-inline {list-style: none; margin:0; padding: 0}\n",
       ".list-inline>li {display: inline-block}\n",
       ".list-inline>li:not(:last-child)::after {content: \"\\00b7\"; padding: 0 .5ex}\n",
       "</style>\n",
       "<ol class=list-inline><li>'Hello'</li><li>'Hello'</li><li>'Hello'</li><li>'Hello'</li><li>'Hello'</li></ol>\n"
      ],
      "text/latex": [
       "\\begin{enumerate*}\n",
       "\\item 'Hello'\n",
       "\\item 'Hello'\n",
       "\\item 'Hello'\n",
       "\\item 'Hello'\n",
       "\\item 'Hello'\n",
       "\\end{enumerate*}\n"
      ],
      "text/markdown": [
       "1. 'Hello'\n",
       "2. 'Hello'\n",
       "3. 'Hello'\n",
       "4. 'Hello'\n",
       "5. 'Hello'\n",
       "\n",
       "\n"
      ],
      "text/plain": [
       "[1] \"Hello\" \"Hello\" \"Hello\" \"Hello\" \"Hello\""
      ]
     },
     "metadata": {},
     "output_type": "display_data"
    }
   ],
   "source": [
    "B1 <- rep(3,2) # First number is what gets repeated, the second is no. of times repeated\n",
    "B1\n",
    "\n",
    "C1 <- rep(\"Hello\", 5)\n",
    "C1"
   ]
  },
  {
   "cell_type": "markdown",
   "id": "2fb47e4b-4003-47a5-b65f-5eb3ce8450a6",
   "metadata": {},
   "source": [
    "...or repeat numbers"
   ]
  },
  {
   "cell_type": "markdown",
   "id": "ceb4a06c-2759-42d7-b834-c66398ac717c",
   "metadata": {},
   "source": [
    "We can also generate random lists."
   ]
  },
  {
   "cell_type": "code",
   "execution_count": 27,
   "id": "a0b7baea-94b1-4e6e-8285-fb166af80ca8",
   "metadata": {},
   "outputs": [],
   "source": [
    "# 1st no = number of values, 2nd no = min value, 3rd no= max value)\n",
    "weight1 <- runif(30,1,20)\n",
    "weight2 <- runif(30,5,45)"
   ]
  },
  {
   "cell_type": "markdown",
   "id": "a9b41cdd-8549-426c-a63a-c48eaef7bebb",
   "metadata": {},
   "source": [
    "A uniform distribution is a probability distribution in which all outcomes are equally likely, resulting in a constant probability density across a specified interval."
   ]
  },
  {
   "cell_type": "markdown",
   "id": "79545d3b-fcaa-4cef-8c6b-ede5ac095ebe",
   "metadata": {},
   "source": [
    "If you are unsure about how a function works, there's a built-in way to get help:"
   ]
  },
  {
   "cell_type": "code",
   "execution_count": 37,
   "id": "f032b628-f242-4e9a-a621-b48c232cf34a",
   "metadata": {},
   "outputs": [],
   "source": [
    "#?runif"
   ]
  },
  {
   "cell_type": "markdown",
   "id": "a2698634-aee6-4790-9067-9a70003b55cb",
   "metadata": {},
   "source": [
    "We don't have to use a uniform distribution. Actually, a normal distribution will be better. Let's do that instead."
   ]
  },
  {
   "cell_type": "code",
   "execution_count": 40,
   "id": "de4a1ed7-b9de-4d1c-aafb-f663ef593c78",
   "metadata": {},
   "outputs": [],
   "source": [
    "# 1st no = number of values, 2nd no = mean, 3rd no= sd)\n",
    "weight3 <- rnorm(30,60,10)\n",
    "weight4 <- rnorm(30,80,15)"
   ]
  },
  {
   "cell_type": "markdown",
   "id": "96fb9a30-367e-403a-8058-24b0715b1611",
   "metadata": {},
   "source": [
    "A normal distribution is a symmetric, bell-shaped probability distribution characterized by its mean and standard deviation, where approximately 68% of the data falls within one standard deviation of the mean."
   ]
  },
  {
   "cell_type": "markdown",
   "id": "a1468e8b-d238-4885-9d26-4502e6da5308",
   "metadata": {},
   "source": [
    "We can also make lists of words. This can be useful if our variables are categorical. "
   ]
  },
  {
   "cell_type": "code",
   "execution_count": 50,
   "id": "70879df2-7725-443e-8208-c4954b30a138",
   "metadata": {},
   "outputs": [],
   "source": [
    "sofie <- c(\"pretty\", \"knit\", \"fit\", \"fun\", \"clever\") # important\n",
    "\n",
    "species1 <- rep(\"Deer\", 30)\n",
    "species2 <- rep(\"Reindeer\", 30)"
   ]
  },
  {
   "cell_type": "markdown",
   "id": "7198b1e8-6298-4fb9-a319-f7f2f723d725",
   "metadata": {},
   "source": [
    "We can also manipulate arrays. This can be necessary for tidying data, and getting it into the right format. We can for example append one array to another. We just use the c() function for this."
   ]
  },
  {
   "cell_type": "code",
   "execution_count": 51,
   "id": "750d9402-c1cc-4866-a00b-3f0e75dfe402",
   "metadata": {},
   "outputs": [
    {
     "data": {
      "text/html": [
       "<style>\n",
       ".list-inline {list-style: none; margin:0; padding: 0}\n",
       ".list-inline>li {display: inline-block}\n",
       ".list-inline>li:not(:last-child)::after {content: \"\\00b7\"; padding: 0 .5ex}\n",
       "</style>\n",
       "<ol class=list-inline><li>12.0774592480157</li><li>12.8786897086538</li><li>12.136422695592</li><li>3.25911997118965</li><li>12.177038320573</li><li>4.56059927330352</li><li>3.55859240377322</li><li>10.9706050192472</li><li>2.22132495557889</li><li>13.6460260832682</li><li>19.129798408132</li><li>10.0829907834996</li><li>2.96954044280574</li><li>19.7799504990689</li><li>4.78923397301696</li><li>15.7726114897523</li><li>3.77680097427219</li><li>3.34928402747028</li><li>2.41290484764613</li><li>9.73004176025279</li><li>14.289763964247</li><li>8.09533995133825</li><li>6.39064317988232</li><li>15.8031598471571</li><li>8.97157231741585</li><li>15.894069846021</li><li>8.72279093484394</li><li>3.51878969743848</li><li>19.8807691507973</li><li>13.1284905562643</li><li>15.2003547083586</li><li>38.6943664960563</li><li>6.86069336719811</li><li>34.6988503355533</li><li>21.3697319757193</li><li>26.4506117720157</li><li>12.4159713182598</li><li>13.2999710552394</li><li>5.65354416146874</li><li>36.5824334230274</li><li>20.6574699748307</li><li>8.28820795752108</li><li>43.1923496630043</li><li>6.34856318123639</li><li>34.2136122100055</li><li>22.6225797645748</li><li>31.3910073321313</li><li>33.8770579732955</li><li>12.2095766011626</li><li>14.1716362163424</li><li>18.3561949897557</li><li>14.338069614023</li><li>11.8930518254638</li><li>43.4768652543426</li><li>13.8147844746709</li><li>26.753550497815</li><li>44.7411349974573</li><li>13.4926118329167</li><li>36.3936740346253</li><li>30.8276295755059</li></ol>\n"
      ],
      "text/latex": [
       "\\begin{enumerate*}\n",
       "\\item 12.0774592480157\n",
       "\\item 12.8786897086538\n",
       "\\item 12.136422695592\n",
       "\\item 3.25911997118965\n",
       "\\item 12.177038320573\n",
       "\\item 4.56059927330352\n",
       "\\item 3.55859240377322\n",
       "\\item 10.9706050192472\n",
       "\\item 2.22132495557889\n",
       "\\item 13.6460260832682\n",
       "\\item 19.129798408132\n",
       "\\item 10.0829907834996\n",
       "\\item 2.96954044280574\n",
       "\\item 19.7799504990689\n",
       "\\item 4.78923397301696\n",
       "\\item 15.7726114897523\n",
       "\\item 3.77680097427219\n",
       "\\item 3.34928402747028\n",
       "\\item 2.41290484764613\n",
       "\\item 9.73004176025279\n",
       "\\item 14.289763964247\n",
       "\\item 8.09533995133825\n",
       "\\item 6.39064317988232\n",
       "\\item 15.8031598471571\n",
       "\\item 8.97157231741585\n",
       "\\item 15.894069846021\n",
       "\\item 8.72279093484394\n",
       "\\item 3.51878969743848\n",
       "\\item 19.8807691507973\n",
       "\\item 13.1284905562643\n",
       "\\item 15.2003547083586\n",
       "\\item 38.6943664960563\n",
       "\\item 6.86069336719811\n",
       "\\item 34.6988503355533\n",
       "\\item 21.3697319757193\n",
       "\\item 26.4506117720157\n",
       "\\item 12.4159713182598\n",
       "\\item 13.2999710552394\n",
       "\\item 5.65354416146874\n",
       "\\item 36.5824334230274\n",
       "\\item 20.6574699748307\n",
       "\\item 8.28820795752108\n",
       "\\item 43.1923496630043\n",
       "\\item 6.34856318123639\n",
       "\\item 34.2136122100055\n",
       "\\item 22.6225797645748\n",
       "\\item 31.3910073321313\n",
       "\\item 33.8770579732955\n",
       "\\item 12.2095766011626\n",
       "\\item 14.1716362163424\n",
       "\\item 18.3561949897557\n",
       "\\item 14.338069614023\n",
       "\\item 11.8930518254638\n",
       "\\item 43.4768652543426\n",
       "\\item 13.8147844746709\n",
       "\\item 26.753550497815\n",
       "\\item 44.7411349974573\n",
       "\\item 13.4926118329167\n",
       "\\item 36.3936740346253\n",
       "\\item 30.8276295755059\n",
       "\\end{enumerate*}\n"
      ],
      "text/markdown": [
       "1. 12.0774592480157\n",
       "2. 12.8786897086538\n",
       "3. 12.136422695592\n",
       "4. 3.25911997118965\n",
       "5. 12.177038320573\n",
       "6. 4.56059927330352\n",
       "7. 3.55859240377322\n",
       "8. 10.9706050192472\n",
       "9. 2.22132495557889\n",
       "10. 13.6460260832682\n",
       "11. 19.129798408132\n",
       "12. 10.0829907834996\n",
       "13. 2.96954044280574\n",
       "14. 19.7799504990689\n",
       "15. 4.78923397301696\n",
       "16. 15.7726114897523\n",
       "17. 3.77680097427219\n",
       "18. 3.34928402747028\n",
       "19. 2.41290484764613\n",
       "20. 9.73004176025279\n",
       "21. 14.289763964247\n",
       "22. 8.09533995133825\n",
       "23. 6.39064317988232\n",
       "24. 15.8031598471571\n",
       "25. 8.97157231741585\n",
       "26. 15.894069846021\n",
       "27. 8.72279093484394\n",
       "28. 3.51878969743848\n",
       "29. 19.8807691507973\n",
       "30. 13.1284905562643\n",
       "31. 15.2003547083586\n",
       "32. 38.6943664960563\n",
       "33. 6.86069336719811\n",
       "34. 34.6988503355533\n",
       "35. 21.3697319757193\n",
       "36. 26.4506117720157\n",
       "37. 12.4159713182598\n",
       "38. 13.2999710552394\n",
       "39. 5.65354416146874\n",
       "40. 36.5824334230274\n",
       "41. 20.6574699748307\n",
       "42. 8.28820795752108\n",
       "43. 43.1923496630043\n",
       "44. 6.34856318123639\n",
       "45. 34.2136122100055\n",
       "46. 22.6225797645748\n",
       "47. 31.3910073321313\n",
       "48. 33.8770579732955\n",
       "49. 12.2095766011626\n",
       "50. 14.1716362163424\n",
       "51. 18.3561949897557\n",
       "52. 14.338069614023\n",
       "53. 11.8930518254638\n",
       "54. 43.4768652543426\n",
       "55. 13.8147844746709\n",
       "56. 26.753550497815\n",
       "57. 44.7411349974573\n",
       "58. 13.4926118329167\n",
       "59. 36.3936740346253\n",
       "60. 30.8276295755059\n",
       "\n",
       "\n"
      ],
      "text/plain": [
       " [1] 12.077459 12.878690 12.136423  3.259120 12.177038  4.560599  3.558592\n",
       " [8] 10.970605  2.221325 13.646026 19.129798 10.082991  2.969540 19.779950\n",
       "[15]  4.789234 15.772611  3.776801  3.349284  2.412905  9.730042 14.289764\n",
       "[22]  8.095340  6.390643 15.803160  8.971572 15.894070  8.722791  3.518790\n",
       "[29] 19.880769 13.128491 15.200355 38.694366  6.860693 34.698850 21.369732\n",
       "[36] 26.450612 12.415971 13.299971  5.653544 36.582433 20.657470  8.288208\n",
       "[43] 43.192350  6.348563 34.213612 22.622580 31.391007 33.877058 12.209577\n",
       "[50] 14.171636 18.356195 14.338070 11.893052 43.476865 13.814784 26.753550\n",
       "[57] 44.741135 13.492612 36.393674 30.827630"
      ]
     },
     "metadata": {},
     "output_type": "display_data"
    },
    {
     "data": {
      "text/html": [
       "<style>\n",
       ".list-inline {list-style: none; margin:0; padding: 0}\n",
       ".list-inline>li {display: inline-block}\n",
       ".list-inline>li:not(:last-child)::after {content: \"\\00b7\"; padding: 0 .5ex}\n",
       "</style>\n",
       "<ol class=list-inline><li>'Deer'</li><li>'Deer'</li><li>'Deer'</li><li>'Deer'</li><li>'Deer'</li><li>'Deer'</li><li>'Deer'</li><li>'Deer'</li><li>'Deer'</li><li>'Deer'</li><li>'Deer'</li><li>'Deer'</li><li>'Deer'</li><li>'Deer'</li><li>'Deer'</li><li>'Deer'</li><li>'Deer'</li><li>'Deer'</li><li>'Deer'</li><li>'Deer'</li><li>'Deer'</li><li>'Deer'</li><li>'Deer'</li><li>'Deer'</li><li>'Deer'</li><li>'Deer'</li><li>'Deer'</li><li>'Deer'</li><li>'Deer'</li><li>'Deer'</li><li>'Reindeer'</li><li>'Reindeer'</li><li>'Reindeer'</li><li>'Reindeer'</li><li>'Reindeer'</li><li>'Reindeer'</li><li>'Reindeer'</li><li>'Reindeer'</li><li>'Reindeer'</li><li>'Reindeer'</li><li>'Reindeer'</li><li>'Reindeer'</li><li>'Reindeer'</li><li>'Reindeer'</li><li>'Reindeer'</li><li>'Reindeer'</li><li>'Reindeer'</li><li>'Reindeer'</li><li>'Reindeer'</li><li>'Reindeer'</li><li>'Reindeer'</li><li>'Reindeer'</li><li>'Reindeer'</li><li>'Reindeer'</li><li>'Reindeer'</li><li>'Reindeer'</li><li>'Reindeer'</li><li>'Reindeer'</li><li>'Reindeer'</li><li>'Reindeer'</li></ol>\n"
      ],
      "text/latex": [
       "\\begin{enumerate*}\n",
       "\\item 'Deer'\n",
       "\\item 'Deer'\n",
       "\\item 'Deer'\n",
       "\\item 'Deer'\n",
       "\\item 'Deer'\n",
       "\\item 'Deer'\n",
       "\\item 'Deer'\n",
       "\\item 'Deer'\n",
       "\\item 'Deer'\n",
       "\\item 'Deer'\n",
       "\\item 'Deer'\n",
       "\\item 'Deer'\n",
       "\\item 'Deer'\n",
       "\\item 'Deer'\n",
       "\\item 'Deer'\n",
       "\\item 'Deer'\n",
       "\\item 'Deer'\n",
       "\\item 'Deer'\n",
       "\\item 'Deer'\n",
       "\\item 'Deer'\n",
       "\\item 'Deer'\n",
       "\\item 'Deer'\n",
       "\\item 'Deer'\n",
       "\\item 'Deer'\n",
       "\\item 'Deer'\n",
       "\\item 'Deer'\n",
       "\\item 'Deer'\n",
       "\\item 'Deer'\n",
       "\\item 'Deer'\n",
       "\\item 'Deer'\n",
       "\\item 'Reindeer'\n",
       "\\item 'Reindeer'\n",
       "\\item 'Reindeer'\n",
       "\\item 'Reindeer'\n",
       "\\item 'Reindeer'\n",
       "\\item 'Reindeer'\n",
       "\\item 'Reindeer'\n",
       "\\item 'Reindeer'\n",
       "\\item 'Reindeer'\n",
       "\\item 'Reindeer'\n",
       "\\item 'Reindeer'\n",
       "\\item 'Reindeer'\n",
       "\\item 'Reindeer'\n",
       "\\item 'Reindeer'\n",
       "\\item 'Reindeer'\n",
       "\\item 'Reindeer'\n",
       "\\item 'Reindeer'\n",
       "\\item 'Reindeer'\n",
       "\\item 'Reindeer'\n",
       "\\item 'Reindeer'\n",
       "\\item 'Reindeer'\n",
       "\\item 'Reindeer'\n",
       "\\item 'Reindeer'\n",
       "\\item 'Reindeer'\n",
       "\\item 'Reindeer'\n",
       "\\item 'Reindeer'\n",
       "\\item 'Reindeer'\n",
       "\\item 'Reindeer'\n",
       "\\item 'Reindeer'\n",
       "\\item 'Reindeer'\n",
       "\\end{enumerate*}\n"
      ],
      "text/markdown": [
       "1. 'Deer'\n",
       "2. 'Deer'\n",
       "3. 'Deer'\n",
       "4. 'Deer'\n",
       "5. 'Deer'\n",
       "6. 'Deer'\n",
       "7. 'Deer'\n",
       "8. 'Deer'\n",
       "9. 'Deer'\n",
       "10. 'Deer'\n",
       "11. 'Deer'\n",
       "12. 'Deer'\n",
       "13. 'Deer'\n",
       "14. 'Deer'\n",
       "15. 'Deer'\n",
       "16. 'Deer'\n",
       "17. 'Deer'\n",
       "18. 'Deer'\n",
       "19. 'Deer'\n",
       "20. 'Deer'\n",
       "21. 'Deer'\n",
       "22. 'Deer'\n",
       "23. 'Deer'\n",
       "24. 'Deer'\n",
       "25. 'Deer'\n",
       "26. 'Deer'\n",
       "27. 'Deer'\n",
       "28. 'Deer'\n",
       "29. 'Deer'\n",
       "30. 'Deer'\n",
       "31. 'Reindeer'\n",
       "32. 'Reindeer'\n",
       "33. 'Reindeer'\n",
       "34. 'Reindeer'\n",
       "35. 'Reindeer'\n",
       "36. 'Reindeer'\n",
       "37. 'Reindeer'\n",
       "38. 'Reindeer'\n",
       "39. 'Reindeer'\n",
       "40. 'Reindeer'\n",
       "41. 'Reindeer'\n",
       "42. 'Reindeer'\n",
       "43. 'Reindeer'\n",
       "44. 'Reindeer'\n",
       "45. 'Reindeer'\n",
       "46. 'Reindeer'\n",
       "47. 'Reindeer'\n",
       "48. 'Reindeer'\n",
       "49. 'Reindeer'\n",
       "50. 'Reindeer'\n",
       "51. 'Reindeer'\n",
       "52. 'Reindeer'\n",
       "53. 'Reindeer'\n",
       "54. 'Reindeer'\n",
       "55. 'Reindeer'\n",
       "56. 'Reindeer'\n",
       "57. 'Reindeer'\n",
       "58. 'Reindeer'\n",
       "59. 'Reindeer'\n",
       "60. 'Reindeer'\n",
       "\n",
       "\n"
      ],
      "text/plain": [
       " [1] \"Deer\"     \"Deer\"     \"Deer\"     \"Deer\"     \"Deer\"     \"Deer\"    \n",
       " [7] \"Deer\"     \"Deer\"     \"Deer\"     \"Deer\"     \"Deer\"     \"Deer\"    \n",
       "[13] \"Deer\"     \"Deer\"     \"Deer\"     \"Deer\"     \"Deer\"     \"Deer\"    \n",
       "[19] \"Deer\"     \"Deer\"     \"Deer\"     \"Deer\"     \"Deer\"     \"Deer\"    \n",
       "[25] \"Deer\"     \"Deer\"     \"Deer\"     \"Deer\"     \"Deer\"     \"Deer\"    \n",
       "[31] \"Reindeer\" \"Reindeer\" \"Reindeer\" \"Reindeer\" \"Reindeer\" \"Reindeer\"\n",
       "[37] \"Reindeer\" \"Reindeer\" \"Reindeer\" \"Reindeer\" \"Reindeer\" \"Reindeer\"\n",
       "[43] \"Reindeer\" \"Reindeer\" \"Reindeer\" \"Reindeer\" \"Reindeer\" \"Reindeer\"\n",
       "[49] \"Reindeer\" \"Reindeer\" \"Reindeer\" \"Reindeer\" \"Reindeer\" \"Reindeer\"\n",
       "[55] \"Reindeer\" \"Reindeer\" \"Reindeer\" \"Reindeer\" \"Reindeer\" \"Reindeer\""
      ]
     },
     "metadata": {},
     "output_type": "display_data"
    }
   ],
   "source": [
    "# join the lists together (in one long list)\n",
    "weight <- c(weight1, weight2)\n",
    "weight\n",
    "\n",
    "species <- c(species1, species2)\n",
    "species"
   ]
  },
  {
   "cell_type": "markdown",
   "id": "987c336d-d560-4c57-9d87-eee75a342173",
   "metadata": {},
   "source": [
    "This gives us our weights and species as nice tidy data arrays. We can also organise our data into spreadsheets like excel. These are called data frames in R."
   ]
  },
  {
   "cell_type": "code",
   "execution_count": 61,
   "id": "03134980-2042-4ef6-92fa-930639259b9c",
   "metadata": {},
   "outputs": [],
   "source": [
    "deerstudy <- data.frame(weight, species)"
   ]
  },
  {
   "cell_type": "markdown",
   "id": "21b1fbbc-a349-4d17-8452-81cec475d781",
   "metadata": {},
   "source": [
    "You can always take a look at the dataframe by calling it."
   ]
  },
  {
   "cell_type": "code",
   "execution_count": 62,
   "id": "024e2e50-5a68-49f5-8ca3-bf6271649f81",
   "metadata": {},
   "outputs": [
    {
     "data": {
      "text/html": [
       "<table class=\"dataframe\">\n",
       "<caption>A data.frame: 60 × 2</caption>\n",
       "<thead>\n",
       "\t<tr><th scope=col>weight</th><th scope=col>species</th></tr>\n",
       "\t<tr><th scope=col>&lt;dbl&gt;</th><th scope=col>&lt;chr&gt;</th></tr>\n",
       "</thead>\n",
       "<tbody>\n",
       "\t<tr><td>12.077459</td><td>Deer    </td></tr>\n",
       "\t<tr><td>12.878690</td><td>Deer    </td></tr>\n",
       "\t<tr><td>12.136423</td><td>Deer    </td></tr>\n",
       "\t<tr><td> 3.259120</td><td>Deer    </td></tr>\n",
       "\t<tr><td>12.177038</td><td>Deer    </td></tr>\n",
       "\t<tr><td> 4.560599</td><td>Deer    </td></tr>\n",
       "\t<tr><td> 3.558592</td><td>Deer    </td></tr>\n",
       "\t<tr><td>10.970605</td><td>Deer    </td></tr>\n",
       "\t<tr><td> 2.221325</td><td>Deer    </td></tr>\n",
       "\t<tr><td>13.646026</td><td>Deer    </td></tr>\n",
       "\t<tr><td>19.129798</td><td>Deer    </td></tr>\n",
       "\t<tr><td>10.082991</td><td>Deer    </td></tr>\n",
       "\t<tr><td> 2.969540</td><td>Deer    </td></tr>\n",
       "\t<tr><td>19.779950</td><td>Deer    </td></tr>\n",
       "\t<tr><td> 4.789234</td><td>Deer    </td></tr>\n",
       "\t<tr><td>15.772611</td><td>Deer    </td></tr>\n",
       "\t<tr><td> 3.776801</td><td>Deer    </td></tr>\n",
       "\t<tr><td> 3.349284</td><td>Deer    </td></tr>\n",
       "\t<tr><td> 2.412905</td><td>Deer    </td></tr>\n",
       "\t<tr><td> 9.730042</td><td>Deer    </td></tr>\n",
       "\t<tr><td>14.289764</td><td>Deer    </td></tr>\n",
       "\t<tr><td> 8.095340</td><td>Deer    </td></tr>\n",
       "\t<tr><td> 6.390643</td><td>Deer    </td></tr>\n",
       "\t<tr><td>15.803160</td><td>Deer    </td></tr>\n",
       "\t<tr><td> 8.971572</td><td>Deer    </td></tr>\n",
       "\t<tr><td>15.894070</td><td>Deer    </td></tr>\n",
       "\t<tr><td> 8.722791</td><td>Deer    </td></tr>\n",
       "\t<tr><td> 3.518790</td><td>Deer    </td></tr>\n",
       "\t<tr><td>19.880769</td><td>Deer    </td></tr>\n",
       "\t<tr><td>13.128491</td><td>Deer    </td></tr>\n",
       "\t<tr><td>15.200355</td><td>Reindeer</td></tr>\n",
       "\t<tr><td>38.694366</td><td>Reindeer</td></tr>\n",
       "\t<tr><td> 6.860693</td><td>Reindeer</td></tr>\n",
       "\t<tr><td>34.698850</td><td>Reindeer</td></tr>\n",
       "\t<tr><td>21.369732</td><td>Reindeer</td></tr>\n",
       "\t<tr><td>26.450612</td><td>Reindeer</td></tr>\n",
       "\t<tr><td>12.415971</td><td>Reindeer</td></tr>\n",
       "\t<tr><td>13.299971</td><td>Reindeer</td></tr>\n",
       "\t<tr><td> 5.653544</td><td>Reindeer</td></tr>\n",
       "\t<tr><td>36.582433</td><td>Reindeer</td></tr>\n",
       "\t<tr><td>20.657470</td><td>Reindeer</td></tr>\n",
       "\t<tr><td> 8.288208</td><td>Reindeer</td></tr>\n",
       "\t<tr><td>43.192350</td><td>Reindeer</td></tr>\n",
       "\t<tr><td> 6.348563</td><td>Reindeer</td></tr>\n",
       "\t<tr><td>34.213612</td><td>Reindeer</td></tr>\n",
       "\t<tr><td>22.622580</td><td>Reindeer</td></tr>\n",
       "\t<tr><td>31.391007</td><td>Reindeer</td></tr>\n",
       "\t<tr><td>33.877058</td><td>Reindeer</td></tr>\n",
       "\t<tr><td>12.209577</td><td>Reindeer</td></tr>\n",
       "\t<tr><td>14.171636</td><td>Reindeer</td></tr>\n",
       "\t<tr><td>18.356195</td><td>Reindeer</td></tr>\n",
       "\t<tr><td>14.338070</td><td>Reindeer</td></tr>\n",
       "\t<tr><td>11.893052</td><td>Reindeer</td></tr>\n",
       "\t<tr><td>43.476865</td><td>Reindeer</td></tr>\n",
       "\t<tr><td>13.814784</td><td>Reindeer</td></tr>\n",
       "\t<tr><td>26.753550</td><td>Reindeer</td></tr>\n",
       "\t<tr><td>44.741135</td><td>Reindeer</td></tr>\n",
       "\t<tr><td>13.492612</td><td>Reindeer</td></tr>\n",
       "\t<tr><td>36.393674</td><td>Reindeer</td></tr>\n",
       "\t<tr><td>30.827630</td><td>Reindeer</td></tr>\n",
       "</tbody>\n",
       "</table>\n"
      ],
      "text/latex": [
       "A data.frame: 60 × 2\n",
       "\\begin{tabular}{ll}\n",
       " weight & species\\\\\n",
       " <dbl> & <chr>\\\\\n",
       "\\hline\n",
       "\t 12.077459 & Deer    \\\\\n",
       "\t 12.878690 & Deer    \\\\\n",
       "\t 12.136423 & Deer    \\\\\n",
       "\t  3.259120 & Deer    \\\\\n",
       "\t 12.177038 & Deer    \\\\\n",
       "\t  4.560599 & Deer    \\\\\n",
       "\t  3.558592 & Deer    \\\\\n",
       "\t 10.970605 & Deer    \\\\\n",
       "\t  2.221325 & Deer    \\\\\n",
       "\t 13.646026 & Deer    \\\\\n",
       "\t 19.129798 & Deer    \\\\\n",
       "\t 10.082991 & Deer    \\\\\n",
       "\t  2.969540 & Deer    \\\\\n",
       "\t 19.779950 & Deer    \\\\\n",
       "\t  4.789234 & Deer    \\\\\n",
       "\t 15.772611 & Deer    \\\\\n",
       "\t  3.776801 & Deer    \\\\\n",
       "\t  3.349284 & Deer    \\\\\n",
       "\t  2.412905 & Deer    \\\\\n",
       "\t  9.730042 & Deer    \\\\\n",
       "\t 14.289764 & Deer    \\\\\n",
       "\t  8.095340 & Deer    \\\\\n",
       "\t  6.390643 & Deer    \\\\\n",
       "\t 15.803160 & Deer    \\\\\n",
       "\t  8.971572 & Deer    \\\\\n",
       "\t 15.894070 & Deer    \\\\\n",
       "\t  8.722791 & Deer    \\\\\n",
       "\t  3.518790 & Deer    \\\\\n",
       "\t 19.880769 & Deer    \\\\\n",
       "\t 13.128491 & Deer    \\\\\n",
       "\t 15.200355 & Reindeer\\\\\n",
       "\t 38.694366 & Reindeer\\\\\n",
       "\t  6.860693 & Reindeer\\\\\n",
       "\t 34.698850 & Reindeer\\\\\n",
       "\t 21.369732 & Reindeer\\\\\n",
       "\t 26.450612 & Reindeer\\\\\n",
       "\t 12.415971 & Reindeer\\\\\n",
       "\t 13.299971 & Reindeer\\\\\n",
       "\t  5.653544 & Reindeer\\\\\n",
       "\t 36.582433 & Reindeer\\\\\n",
       "\t 20.657470 & Reindeer\\\\\n",
       "\t  8.288208 & Reindeer\\\\\n",
       "\t 43.192350 & Reindeer\\\\\n",
       "\t  6.348563 & Reindeer\\\\\n",
       "\t 34.213612 & Reindeer\\\\\n",
       "\t 22.622580 & Reindeer\\\\\n",
       "\t 31.391007 & Reindeer\\\\\n",
       "\t 33.877058 & Reindeer\\\\\n",
       "\t 12.209577 & Reindeer\\\\\n",
       "\t 14.171636 & Reindeer\\\\\n",
       "\t 18.356195 & Reindeer\\\\\n",
       "\t 14.338070 & Reindeer\\\\\n",
       "\t 11.893052 & Reindeer\\\\\n",
       "\t 43.476865 & Reindeer\\\\\n",
       "\t 13.814784 & Reindeer\\\\\n",
       "\t 26.753550 & Reindeer\\\\\n",
       "\t 44.741135 & Reindeer\\\\\n",
       "\t 13.492612 & Reindeer\\\\\n",
       "\t 36.393674 & Reindeer\\\\\n",
       "\t 30.827630 & Reindeer\\\\\n",
       "\\end{tabular}\n"
      ],
      "text/markdown": [
       "\n",
       "A data.frame: 60 × 2\n",
       "\n",
       "| weight &lt;dbl&gt; | species &lt;chr&gt; |\n",
       "|---|---|\n",
       "| 12.077459 | Deer     |\n",
       "| 12.878690 | Deer     |\n",
       "| 12.136423 | Deer     |\n",
       "|  3.259120 | Deer     |\n",
       "| 12.177038 | Deer     |\n",
       "|  4.560599 | Deer     |\n",
       "|  3.558592 | Deer     |\n",
       "| 10.970605 | Deer     |\n",
       "|  2.221325 | Deer     |\n",
       "| 13.646026 | Deer     |\n",
       "| 19.129798 | Deer     |\n",
       "| 10.082991 | Deer     |\n",
       "|  2.969540 | Deer     |\n",
       "| 19.779950 | Deer     |\n",
       "|  4.789234 | Deer     |\n",
       "| 15.772611 | Deer     |\n",
       "|  3.776801 | Deer     |\n",
       "|  3.349284 | Deer     |\n",
       "|  2.412905 | Deer     |\n",
       "|  9.730042 | Deer     |\n",
       "| 14.289764 | Deer     |\n",
       "|  8.095340 | Deer     |\n",
       "|  6.390643 | Deer     |\n",
       "| 15.803160 | Deer     |\n",
       "|  8.971572 | Deer     |\n",
       "| 15.894070 | Deer     |\n",
       "|  8.722791 | Deer     |\n",
       "|  3.518790 | Deer     |\n",
       "| 19.880769 | Deer     |\n",
       "| 13.128491 | Deer     |\n",
       "| 15.200355 | Reindeer |\n",
       "| 38.694366 | Reindeer |\n",
       "|  6.860693 | Reindeer |\n",
       "| 34.698850 | Reindeer |\n",
       "| 21.369732 | Reindeer |\n",
       "| 26.450612 | Reindeer |\n",
       "| 12.415971 | Reindeer |\n",
       "| 13.299971 | Reindeer |\n",
       "|  5.653544 | Reindeer |\n",
       "| 36.582433 | Reindeer |\n",
       "| 20.657470 | Reindeer |\n",
       "|  8.288208 | Reindeer |\n",
       "| 43.192350 | Reindeer |\n",
       "|  6.348563 | Reindeer |\n",
       "| 34.213612 | Reindeer |\n",
       "| 22.622580 | Reindeer |\n",
       "| 31.391007 | Reindeer |\n",
       "| 33.877058 | Reindeer |\n",
       "| 12.209577 | Reindeer |\n",
       "| 14.171636 | Reindeer |\n",
       "| 18.356195 | Reindeer |\n",
       "| 14.338070 | Reindeer |\n",
       "| 11.893052 | Reindeer |\n",
       "| 43.476865 | Reindeer |\n",
       "| 13.814784 | Reindeer |\n",
       "| 26.753550 | Reindeer |\n",
       "| 44.741135 | Reindeer |\n",
       "| 13.492612 | Reindeer |\n",
       "| 36.393674 | Reindeer |\n",
       "| 30.827630 | Reindeer |\n",
       "\n"
      ],
      "text/plain": [
       "   weight    species \n",
       "1  12.077459 Deer    \n",
       "2  12.878690 Deer    \n",
       "3  12.136423 Deer    \n",
       "4   3.259120 Deer    \n",
       "5  12.177038 Deer    \n",
       "6   4.560599 Deer    \n",
       "7   3.558592 Deer    \n",
       "8  10.970605 Deer    \n",
       "9   2.221325 Deer    \n",
       "10 13.646026 Deer    \n",
       "11 19.129798 Deer    \n",
       "12 10.082991 Deer    \n",
       "13  2.969540 Deer    \n",
       "14 19.779950 Deer    \n",
       "15  4.789234 Deer    \n",
       "16 15.772611 Deer    \n",
       "17  3.776801 Deer    \n",
       "18  3.349284 Deer    \n",
       "19  2.412905 Deer    \n",
       "20  9.730042 Deer    \n",
       "21 14.289764 Deer    \n",
       "22  8.095340 Deer    \n",
       "23  6.390643 Deer    \n",
       "24 15.803160 Deer    \n",
       "25  8.971572 Deer    \n",
       "26 15.894070 Deer    \n",
       "27  8.722791 Deer    \n",
       "28  3.518790 Deer    \n",
       "29 19.880769 Deer    \n",
       "30 13.128491 Deer    \n",
       "31 15.200355 Reindeer\n",
       "32 38.694366 Reindeer\n",
       "33  6.860693 Reindeer\n",
       "34 34.698850 Reindeer\n",
       "35 21.369732 Reindeer\n",
       "36 26.450612 Reindeer\n",
       "37 12.415971 Reindeer\n",
       "38 13.299971 Reindeer\n",
       "39  5.653544 Reindeer\n",
       "40 36.582433 Reindeer\n",
       "41 20.657470 Reindeer\n",
       "42  8.288208 Reindeer\n",
       "43 43.192350 Reindeer\n",
       "44  6.348563 Reindeer\n",
       "45 34.213612 Reindeer\n",
       "46 22.622580 Reindeer\n",
       "47 31.391007 Reindeer\n",
       "48 33.877058 Reindeer\n",
       "49 12.209577 Reindeer\n",
       "50 14.171636 Reindeer\n",
       "51 18.356195 Reindeer\n",
       "52 14.338070 Reindeer\n",
       "53 11.893052 Reindeer\n",
       "54 43.476865 Reindeer\n",
       "55 13.814784 Reindeer\n",
       "56 26.753550 Reindeer\n",
       "57 44.741135 Reindeer\n",
       "58 13.492612 Reindeer\n",
       "59 36.393674 Reindeer\n",
       "60 30.827630 Reindeer"
      ]
     },
     "metadata": {},
     "output_type": "display_data"
    }
   ],
   "source": [
    "deerstudy"
   ]
  },
  {
   "cell_type": "markdown",
   "id": "9311c1ee-e60f-46b7-a56a-1e15095e59bc",
   "metadata": {},
   "source": [
    "We can look at just the top of this spreadsheet."
   ]
  },
  {
   "cell_type": "code",
   "execution_count": 63,
   "id": "10d529da-ef20-41b9-9ec7-908d2f6a4b69",
   "metadata": {},
   "outputs": [
    {
     "data": {
      "text/html": [
       "<table class=\"dataframe\">\n",
       "<caption>A data.frame: 6 × 2</caption>\n",
       "<thead>\n",
       "\t<tr><th></th><th scope=col>weight</th><th scope=col>species</th></tr>\n",
       "\t<tr><th></th><th scope=col>&lt;dbl&gt;</th><th scope=col>&lt;chr&gt;</th></tr>\n",
       "</thead>\n",
       "<tbody>\n",
       "\t<tr><th scope=row>1</th><td>12.077459</td><td>Deer</td></tr>\n",
       "\t<tr><th scope=row>2</th><td>12.878690</td><td>Deer</td></tr>\n",
       "\t<tr><th scope=row>3</th><td>12.136423</td><td>Deer</td></tr>\n",
       "\t<tr><th scope=row>4</th><td> 3.259120</td><td>Deer</td></tr>\n",
       "\t<tr><th scope=row>5</th><td>12.177038</td><td>Deer</td></tr>\n",
       "\t<tr><th scope=row>6</th><td> 4.560599</td><td>Deer</td></tr>\n",
       "</tbody>\n",
       "</table>\n"
      ],
      "text/latex": [
       "A data.frame: 6 × 2\n",
       "\\begin{tabular}{r|ll}\n",
       "  & weight & species\\\\\n",
       "  & <dbl> & <chr>\\\\\n",
       "\\hline\n",
       "\t1 & 12.077459 & Deer\\\\\n",
       "\t2 & 12.878690 & Deer\\\\\n",
       "\t3 & 12.136423 & Deer\\\\\n",
       "\t4 &  3.259120 & Deer\\\\\n",
       "\t5 & 12.177038 & Deer\\\\\n",
       "\t6 &  4.560599 & Deer\\\\\n",
       "\\end{tabular}\n"
      ],
      "text/markdown": [
       "\n",
       "A data.frame: 6 × 2\n",
       "\n",
       "| <!--/--> | weight &lt;dbl&gt; | species &lt;chr&gt; |\n",
       "|---|---|---|\n",
       "| 1 | 12.077459 | Deer |\n",
       "| 2 | 12.878690 | Deer |\n",
       "| 3 | 12.136423 | Deer |\n",
       "| 4 |  3.259120 | Deer |\n",
       "| 5 | 12.177038 | Deer |\n",
       "| 6 |  4.560599 | Deer |\n",
       "\n"
      ],
      "text/plain": [
       "  weight    species\n",
       "1 12.077459 Deer   \n",
       "2 12.878690 Deer   \n",
       "3 12.136423 Deer   \n",
       "4  3.259120 Deer   \n",
       "5 12.177038 Deer   \n",
       "6  4.560599 Deer   "
      ]
     },
     "metadata": {},
     "output_type": "display_data"
    }
   ],
   "source": [
    "head(deerstudy)"
   ]
  },
  {
   "cell_type": "markdown",
   "id": "21dea1b3-09c3-40f1-91d0-896897eebb3b",
   "metadata": {},
   "source": [
    "We can also pick out specific variables to do stuff to. We use the '$' for this."
   ]
  },
  {
   "cell_type": "code",
   "execution_count": 66,
   "id": "eb8f3359-f073-4ba3-9ac2-0fa26f38e133",
   "metadata": {},
   "outputs": [
    {
     "data": {
      "text/html": [
       "<style>\n",
       ".list-inline {list-style: none; margin:0; padding: 0}\n",
       ".list-inline>li {display: inline-block}\n",
       ".list-inline>li:not(:last-child)::after {content: \"\\00b7\"; padding: 0 .5ex}\n",
       "</style>\n",
       "<ol class=list-inline><li>12.0774592480157</li><li>12.8786897086538</li><li>12.136422695592</li><li>3.25911997118965</li><li>12.177038320573</li><li>4.56059927330352</li><li>3.55859240377322</li><li>10.9706050192472</li><li>2.22132495557889</li><li>13.6460260832682</li><li>19.129798408132</li><li>10.0829907834996</li><li>2.96954044280574</li><li>19.7799504990689</li><li>4.78923397301696</li><li>15.7726114897523</li><li>3.77680097427219</li><li>3.34928402747028</li><li>2.41290484764613</li><li>9.73004176025279</li><li>14.289763964247</li><li>8.09533995133825</li><li>6.39064317988232</li><li>15.8031598471571</li><li>8.97157231741585</li><li>15.894069846021</li><li>8.72279093484394</li><li>3.51878969743848</li><li>19.8807691507973</li><li>13.1284905562643</li><li>15.2003547083586</li><li>38.6943664960563</li><li>6.86069336719811</li><li>34.6988503355533</li><li>21.3697319757193</li><li>26.4506117720157</li><li>12.4159713182598</li><li>13.2999710552394</li><li>5.65354416146874</li><li>36.5824334230274</li><li>20.6574699748307</li><li>8.28820795752108</li><li>43.1923496630043</li><li>6.34856318123639</li><li>34.2136122100055</li><li>22.6225797645748</li><li>31.3910073321313</li><li>33.8770579732955</li><li>12.2095766011626</li><li>14.1716362163424</li><li>18.3561949897557</li><li>14.338069614023</li><li>11.8930518254638</li><li>43.4768652543426</li><li>13.8147844746709</li><li>26.753550497815</li><li>44.7411349974573</li><li>13.4926118329167</li><li>36.3936740346253</li><li>30.8276295755059</li></ol>\n"
      ],
      "text/latex": [
       "\\begin{enumerate*}\n",
       "\\item 12.0774592480157\n",
       "\\item 12.8786897086538\n",
       "\\item 12.136422695592\n",
       "\\item 3.25911997118965\n",
       "\\item 12.177038320573\n",
       "\\item 4.56059927330352\n",
       "\\item 3.55859240377322\n",
       "\\item 10.9706050192472\n",
       "\\item 2.22132495557889\n",
       "\\item 13.6460260832682\n",
       "\\item 19.129798408132\n",
       "\\item 10.0829907834996\n",
       "\\item 2.96954044280574\n",
       "\\item 19.7799504990689\n",
       "\\item 4.78923397301696\n",
       "\\item 15.7726114897523\n",
       "\\item 3.77680097427219\n",
       "\\item 3.34928402747028\n",
       "\\item 2.41290484764613\n",
       "\\item 9.73004176025279\n",
       "\\item 14.289763964247\n",
       "\\item 8.09533995133825\n",
       "\\item 6.39064317988232\n",
       "\\item 15.8031598471571\n",
       "\\item 8.97157231741585\n",
       "\\item 15.894069846021\n",
       "\\item 8.72279093484394\n",
       "\\item 3.51878969743848\n",
       "\\item 19.8807691507973\n",
       "\\item 13.1284905562643\n",
       "\\item 15.2003547083586\n",
       "\\item 38.6943664960563\n",
       "\\item 6.86069336719811\n",
       "\\item 34.6988503355533\n",
       "\\item 21.3697319757193\n",
       "\\item 26.4506117720157\n",
       "\\item 12.4159713182598\n",
       "\\item 13.2999710552394\n",
       "\\item 5.65354416146874\n",
       "\\item 36.5824334230274\n",
       "\\item 20.6574699748307\n",
       "\\item 8.28820795752108\n",
       "\\item 43.1923496630043\n",
       "\\item 6.34856318123639\n",
       "\\item 34.2136122100055\n",
       "\\item 22.6225797645748\n",
       "\\item 31.3910073321313\n",
       "\\item 33.8770579732955\n",
       "\\item 12.2095766011626\n",
       "\\item 14.1716362163424\n",
       "\\item 18.3561949897557\n",
       "\\item 14.338069614023\n",
       "\\item 11.8930518254638\n",
       "\\item 43.4768652543426\n",
       "\\item 13.8147844746709\n",
       "\\item 26.753550497815\n",
       "\\item 44.7411349974573\n",
       "\\item 13.4926118329167\n",
       "\\item 36.3936740346253\n",
       "\\item 30.8276295755059\n",
       "\\end{enumerate*}\n"
      ],
      "text/markdown": [
       "1. 12.0774592480157\n",
       "2. 12.8786897086538\n",
       "3. 12.136422695592\n",
       "4. 3.25911997118965\n",
       "5. 12.177038320573\n",
       "6. 4.56059927330352\n",
       "7. 3.55859240377322\n",
       "8. 10.9706050192472\n",
       "9. 2.22132495557889\n",
       "10. 13.6460260832682\n",
       "11. 19.129798408132\n",
       "12. 10.0829907834996\n",
       "13. 2.96954044280574\n",
       "14. 19.7799504990689\n",
       "15. 4.78923397301696\n",
       "16. 15.7726114897523\n",
       "17. 3.77680097427219\n",
       "18. 3.34928402747028\n",
       "19. 2.41290484764613\n",
       "20. 9.73004176025279\n",
       "21. 14.289763964247\n",
       "22. 8.09533995133825\n",
       "23. 6.39064317988232\n",
       "24. 15.8031598471571\n",
       "25. 8.97157231741585\n",
       "26. 15.894069846021\n",
       "27. 8.72279093484394\n",
       "28. 3.51878969743848\n",
       "29. 19.8807691507973\n",
       "30. 13.1284905562643\n",
       "31. 15.2003547083586\n",
       "32. 38.6943664960563\n",
       "33. 6.86069336719811\n",
       "34. 34.6988503355533\n",
       "35. 21.3697319757193\n",
       "36. 26.4506117720157\n",
       "37. 12.4159713182598\n",
       "38. 13.2999710552394\n",
       "39. 5.65354416146874\n",
       "40. 36.5824334230274\n",
       "41. 20.6574699748307\n",
       "42. 8.28820795752108\n",
       "43. 43.1923496630043\n",
       "44. 6.34856318123639\n",
       "45. 34.2136122100055\n",
       "46. 22.6225797645748\n",
       "47. 31.3910073321313\n",
       "48. 33.8770579732955\n",
       "49. 12.2095766011626\n",
       "50. 14.1716362163424\n",
       "51. 18.3561949897557\n",
       "52. 14.338069614023\n",
       "53. 11.8930518254638\n",
       "54. 43.4768652543426\n",
       "55. 13.8147844746709\n",
       "56. 26.753550497815\n",
       "57. 44.7411349974573\n",
       "58. 13.4926118329167\n",
       "59. 36.3936740346253\n",
       "60. 30.8276295755059\n",
       "\n",
       "\n"
      ],
      "text/plain": [
       " [1] 12.077459 12.878690 12.136423  3.259120 12.177038  4.560599  3.558592\n",
       " [8] 10.970605  2.221325 13.646026 19.129798 10.082991  2.969540 19.779950\n",
       "[15]  4.789234 15.772611  3.776801  3.349284  2.412905  9.730042 14.289764\n",
       "[22]  8.095340  6.390643 15.803160  8.971572 15.894070  8.722791  3.518790\n",
       "[29] 19.880769 13.128491 15.200355 38.694366  6.860693 34.698850 21.369732\n",
       "[36] 26.450612 12.415971 13.299971  5.653544 36.582433 20.657470  8.288208\n",
       "[43] 43.192350  6.348563 34.213612 22.622580 31.391007 33.877058 12.209577\n",
       "[50] 14.171636 18.356195 14.338070 11.893052 43.476865 13.814784 26.753550\n",
       "[57] 44.741135 13.492612 36.393674 30.827630"
      ]
     },
     "metadata": {},
     "output_type": "display_data"
    },
    {
     "data": {
      "text/html": [
       "<style>\n",
       ".list-inline {list-style: none; margin:0; padding: 0}\n",
       ".list-inline>li {display: inline-block}\n",
       ".list-inline>li:not(:last-child)::after {content: \"\\00b7\"; padding: 0 .5ex}\n",
       "</style>\n",
       "<ol class=list-inline><li>'Deer'</li><li>'Deer'</li><li>'Deer'</li><li>'Deer'</li><li>'Deer'</li><li>'Deer'</li><li>'Deer'</li><li>'Deer'</li><li>'Deer'</li><li>'Deer'</li><li>'Deer'</li><li>'Deer'</li><li>'Deer'</li><li>'Deer'</li><li>'Deer'</li><li>'Deer'</li><li>'Deer'</li><li>'Deer'</li><li>'Deer'</li><li>'Deer'</li><li>'Deer'</li><li>'Deer'</li><li>'Deer'</li><li>'Deer'</li><li>'Deer'</li><li>'Deer'</li><li>'Deer'</li><li>'Deer'</li><li>'Deer'</li><li>'Deer'</li><li>'Reindeer'</li><li>'Reindeer'</li><li>'Reindeer'</li><li>'Reindeer'</li><li>'Reindeer'</li><li>'Reindeer'</li><li>'Reindeer'</li><li>'Reindeer'</li><li>'Reindeer'</li><li>'Reindeer'</li><li>'Reindeer'</li><li>'Reindeer'</li><li>'Reindeer'</li><li>'Reindeer'</li><li>'Reindeer'</li><li>'Reindeer'</li><li>'Reindeer'</li><li>'Reindeer'</li><li>'Reindeer'</li><li>'Reindeer'</li><li>'Reindeer'</li><li>'Reindeer'</li><li>'Reindeer'</li><li>'Reindeer'</li><li>'Reindeer'</li><li>'Reindeer'</li><li>'Reindeer'</li><li>'Reindeer'</li><li>'Reindeer'</li><li>'Reindeer'</li></ol>\n"
      ],
      "text/latex": [
       "\\begin{enumerate*}\n",
       "\\item 'Deer'\n",
       "\\item 'Deer'\n",
       "\\item 'Deer'\n",
       "\\item 'Deer'\n",
       "\\item 'Deer'\n",
       "\\item 'Deer'\n",
       "\\item 'Deer'\n",
       "\\item 'Deer'\n",
       "\\item 'Deer'\n",
       "\\item 'Deer'\n",
       "\\item 'Deer'\n",
       "\\item 'Deer'\n",
       "\\item 'Deer'\n",
       "\\item 'Deer'\n",
       "\\item 'Deer'\n",
       "\\item 'Deer'\n",
       "\\item 'Deer'\n",
       "\\item 'Deer'\n",
       "\\item 'Deer'\n",
       "\\item 'Deer'\n",
       "\\item 'Deer'\n",
       "\\item 'Deer'\n",
       "\\item 'Deer'\n",
       "\\item 'Deer'\n",
       "\\item 'Deer'\n",
       "\\item 'Deer'\n",
       "\\item 'Deer'\n",
       "\\item 'Deer'\n",
       "\\item 'Deer'\n",
       "\\item 'Deer'\n",
       "\\item 'Reindeer'\n",
       "\\item 'Reindeer'\n",
       "\\item 'Reindeer'\n",
       "\\item 'Reindeer'\n",
       "\\item 'Reindeer'\n",
       "\\item 'Reindeer'\n",
       "\\item 'Reindeer'\n",
       "\\item 'Reindeer'\n",
       "\\item 'Reindeer'\n",
       "\\item 'Reindeer'\n",
       "\\item 'Reindeer'\n",
       "\\item 'Reindeer'\n",
       "\\item 'Reindeer'\n",
       "\\item 'Reindeer'\n",
       "\\item 'Reindeer'\n",
       "\\item 'Reindeer'\n",
       "\\item 'Reindeer'\n",
       "\\item 'Reindeer'\n",
       "\\item 'Reindeer'\n",
       "\\item 'Reindeer'\n",
       "\\item 'Reindeer'\n",
       "\\item 'Reindeer'\n",
       "\\item 'Reindeer'\n",
       "\\item 'Reindeer'\n",
       "\\item 'Reindeer'\n",
       "\\item 'Reindeer'\n",
       "\\item 'Reindeer'\n",
       "\\item 'Reindeer'\n",
       "\\item 'Reindeer'\n",
       "\\item 'Reindeer'\n",
       "\\end{enumerate*}\n"
      ],
      "text/markdown": [
       "1. 'Deer'\n",
       "2. 'Deer'\n",
       "3. 'Deer'\n",
       "4. 'Deer'\n",
       "5. 'Deer'\n",
       "6. 'Deer'\n",
       "7. 'Deer'\n",
       "8. 'Deer'\n",
       "9. 'Deer'\n",
       "10. 'Deer'\n",
       "11. 'Deer'\n",
       "12. 'Deer'\n",
       "13. 'Deer'\n",
       "14. 'Deer'\n",
       "15. 'Deer'\n",
       "16. 'Deer'\n",
       "17. 'Deer'\n",
       "18. 'Deer'\n",
       "19. 'Deer'\n",
       "20. 'Deer'\n",
       "21. 'Deer'\n",
       "22. 'Deer'\n",
       "23. 'Deer'\n",
       "24. 'Deer'\n",
       "25. 'Deer'\n",
       "26. 'Deer'\n",
       "27. 'Deer'\n",
       "28. 'Deer'\n",
       "29. 'Deer'\n",
       "30. 'Deer'\n",
       "31. 'Reindeer'\n",
       "32. 'Reindeer'\n",
       "33. 'Reindeer'\n",
       "34. 'Reindeer'\n",
       "35. 'Reindeer'\n",
       "36. 'Reindeer'\n",
       "37. 'Reindeer'\n",
       "38. 'Reindeer'\n",
       "39. 'Reindeer'\n",
       "40. 'Reindeer'\n",
       "41. 'Reindeer'\n",
       "42. 'Reindeer'\n",
       "43. 'Reindeer'\n",
       "44. 'Reindeer'\n",
       "45. 'Reindeer'\n",
       "46. 'Reindeer'\n",
       "47. 'Reindeer'\n",
       "48. 'Reindeer'\n",
       "49. 'Reindeer'\n",
       "50. 'Reindeer'\n",
       "51. 'Reindeer'\n",
       "52. 'Reindeer'\n",
       "53. 'Reindeer'\n",
       "54. 'Reindeer'\n",
       "55. 'Reindeer'\n",
       "56. 'Reindeer'\n",
       "57. 'Reindeer'\n",
       "58. 'Reindeer'\n",
       "59. 'Reindeer'\n",
       "60. 'Reindeer'\n",
       "\n",
       "\n"
      ],
      "text/plain": [
       " [1] \"Deer\"     \"Deer\"     \"Deer\"     \"Deer\"     \"Deer\"     \"Deer\"    \n",
       " [7] \"Deer\"     \"Deer\"     \"Deer\"     \"Deer\"     \"Deer\"     \"Deer\"    \n",
       "[13] \"Deer\"     \"Deer\"     \"Deer\"     \"Deer\"     \"Deer\"     \"Deer\"    \n",
       "[19] \"Deer\"     \"Deer\"     \"Deer\"     \"Deer\"     \"Deer\"     \"Deer\"    \n",
       "[25] \"Deer\"     \"Deer\"     \"Deer\"     \"Deer\"     \"Deer\"     \"Deer\"    \n",
       "[31] \"Reindeer\" \"Reindeer\" \"Reindeer\" \"Reindeer\" \"Reindeer\" \"Reindeer\"\n",
       "[37] \"Reindeer\" \"Reindeer\" \"Reindeer\" \"Reindeer\" \"Reindeer\" \"Reindeer\"\n",
       "[43] \"Reindeer\" \"Reindeer\" \"Reindeer\" \"Reindeer\" \"Reindeer\" \"Reindeer\"\n",
       "[49] \"Reindeer\" \"Reindeer\" \"Reindeer\" \"Reindeer\" \"Reindeer\" \"Reindeer\"\n",
       "[55] \"Reindeer\" \"Reindeer\" \"Reindeer\" \"Reindeer\" \"Reindeer\" \"Reindeer\""
      ]
     },
     "metadata": {},
     "output_type": "display_data"
    }
   ],
   "source": [
    "as.numeric(deerstudy$weight)\n",
    "deerstudy$species"
   ]
  },
  {
   "cell_type": "markdown",
   "id": "fdc5873a-36a7-4862-9640-213902b19a78",
   "metadata": {},
   "source": [
    "We can also save our spreadsheet."
   ]
  },
  {
   "cell_type": "code",
   "execution_count": 68,
   "id": "7f598794-26c4-4f25-a274-049e1b5e5838",
   "metadata": {},
   "outputs": [],
   "source": [
    "save(deerstudy,file = \"files/deerstudy_example.RData\")"
   ]
  },
  {
   "cell_type": "markdown",
   "id": "372cb28c-dcc1-470f-af05-d0cc651d1b5e",
   "metadata": {},
   "source": [
    "# Part 3 - Basic plotting"
   ]
  },
  {
   "cell_type": "markdown",
   "id": "183f8f30-0e1f-45de-9999-f9b31e06b85a",
   "metadata": {},
   "source": [
    "Plotting is very important. It allows you to see relationships between variables. There are different kinds of plots that are useful for different kinds of relationships."
   ]
  },
  {
   "cell_type": "markdown",
   "id": "a17a5ec9-1a42-4ba2-bc41-15632b56468f",
   "metadata": {},
   "source": [
    "If you want to plot something very quickly, base R (when you don't download any extra packages) has some great options."
   ]
  },
  {
   "cell_type": "markdown",
   "id": "4e3d1012-0552-4e5a-9ad6-668825b31d60",
   "metadata": {},
   "source": [
    "To visualize the relationship between two continuous variables, you can use a scatterplot..."
   ]
  },
  {
   "cell_type": "code",
   "execution_count": 80,
   "id": "6d67b8a1-6a17-4e49-854e-a063fcf50a6f",
   "metadata": {},
   "outputs": [
    {
     "data": {
      "image/png": "[encoded data removed]",
      "text/plain": [
       "plot without title"
      ]
     },
     "metadata": {
      "image/png": {
       "height": 420,
       "width": 420
      }
     },
     "output_type": "display_data"
    },
    {
     "data": {
      "image/png": "[encoded data removed]",
      "text/plain": [
       "plot without title"
      ]
     },
     "metadata": {
      "image/png": {
       "height": 420,
       "width": 420
      }
     },
     "output_type": "display_data"
    },
    {
     "data": {
      "image/png": "[encoded data removed]",
      "text/plain": [
       "plot without title"
      ]
     },
     "metadata": {
      "image/png": {
       "height": 420,
       "width": 420
      }
     },
     "output_type": "display_data"
    }
   ],
   "source": [
    "plot(A,B)\n",
    "plot(A~B)\n",
    "plot(deerstudy$weight)"
   ]
  },
  {
   "cell_type": "code",
   "execution_count": 81,
   "id": "40ad0a16-c32f-4e96-b971-40cc6fb17f16",
   "metadata": {},
   "outputs": [
    {
     "data": {
      "image/png": "[encoded data removed]",
      "text/plain": [
       "plot without title"
      ]
     },
     "metadata": {
      "image/png": {
       "height": 420,
       "width": 420
      }
     },
     "output_type": "display_data"
    }
   ],
   "source": [
    "boxplot(weight~species)"
   ]
  },
  {
   "cell_type": "markdown",
   "id": "2f4bd725-a55b-4052-bcbe-09e8c8e6b49b",
   "metadata": {},
   "source": [
    "... while boxplots tell you the relationship between categorical and continuous variables."
   ]
  },
  {
   "cell_type": "code",
   "execution_count": null,
   "id": "544e77c0-1f05-4b15-9a01-97b2bfb32bd9",
   "metadata": {},
   "outputs": [],
   "source": [
    "plot(deerstudy$weight)"
   ]
  },
  {
   "cell_type": "markdown",
   "id": "8a26b67a-2d29-4b1e-a4f7-a09c4fc99c95",
   "metadata": {},
   "source": [
    "The tilde \"~\" is important in R. It can be read to mean \"as a function of\", or \"distributed as\". You will see it again, and you will get used to it. This little syntactic difference is important, because it can allow us to make the same plot using different kinds of data structures. "
   ]
  },
  {
   "cell_type": "markdown",
   "id": "b69a4905-15de-4f77-8805-a12905fb2b9a",
   "metadata": {},
   "source": [
    "These plots are a bit ugly. Even base R can make beautiful plots, you can look at options to fancy plots up using the ?plot command."
   ]
  },
  {
   "cell_type": "markdown",
   "id": "45533359-55d9-494b-967b-d555b3ad2206",
   "metadata": {},
   "source": [
    "A lot of the R community uses a package called ggplot2 to plot. It is very well-documented online and has a lot of options for customization. Packages are like modules in Python. We'll talk a bit more about packages next class. For now, let's just install and load:"
   ]
  },
  {
   "cell_type": "code",
   "execution_count": null,
   "id": "aabd77ff-acd8-409a-980d-67b97ef71e7d",
   "metadata": {
    "scrolled": true
   },
   "outputs": [],
   "source": []
  },
  {
   "cell_type": "code",
   "execution_count": null,
   "id": "f75d56cf-57b3-4789-b072-11a88be731f0",
   "metadata": {},
   "outputs": [],
   "source": []
  },
  {
   "cell_type": "code",
   "execution_count": null,
   "id": "a3a9cf28-9973-42ef-bfd7-a0c82dacb1e3",
   "metadata": {},
   "outputs": [],
   "source": []
  },
  {
   "cell_type": "markdown",
   "id": "8d84d33e-8796-44de-96b1-4b752be7fc62",
   "metadata": {},
   "source": [
    "ggplot2 is a very modular way of plotting. You give commands in a sequential order, and the output of one command is passed to the command with a '+' operator."
   ]
  },
  {
   "cell_type": "markdown",
   "id": "910c3e21-f8d0-43aa-98aa-61c7882eef3c",
   "metadata": {},
   "source": [
    "The first block (before the + sign) specifies the data we want to use and how we want to use it. Using + signs, we can add extra options, for example the style of plot. You can really go crazy with the customizations!"
   ]
  },
  {
   "cell_type": "code",
   "execution_count": null,
   "id": "316dd5c9-f806-4a97-b37e-7445f65b6d30",
   "metadata": {},
   "outputs": [],
   "source": []
  },
  {
   "cell_type": "markdown",
   "id": "9295e5bb-1c71-4831-88f5-75d2166b2a01",
   "metadata": {},
   "source": [
    "There are several excellent resources for learning about ggplot2. Try to play around with them. For example: https://rstudio.github.io/cheatsheets/html/data-visualization.html"
   ]
  },
  {
   "cell_type": "markdown",
   "id": "3da06e77-614e-42da-b9cf-157a7fea72e3",
   "metadata": {},
   "source": [
    "You have encountered some basic plotting functions in R. You have learned the tilde operator. You have learned how to search the help documentation."
   ]
  },
  {
   "cell_type": "markdown",
   "id": "66fb8cb2-317b-4a2a-948d-8e449fc2651b",
   "metadata": {},
   "source": [
    "# Part 4 - Indexing and basic statistics"
   ]
  },
  {
   "cell_type": "markdown",
   "id": "50f48782-ca8d-435f-af20-6f01228c3a50",
   "metadata": {},
   "source": [
    "R is a statistical language, and so it has functions for running statistical operations and models."
   ]
  },
  {
   "cell_type": "markdown",
   "id": "3e477b15-ea0e-4643-8566-17f0a08d0dfc",
   "metadata": {},
   "source": [
    "We can calculate the average a of variable:"
   ]
  },
  {
   "cell_type": "code",
   "execution_count": null,
   "id": "a6604c10-f68e-47fc-bed9-23bf9517abc6",
   "metadata": {},
   "outputs": [],
   "source": []
  },
  {
   "cell_type": "markdown",
   "id": "1d89257f-15ce-43ed-8f06-2d3d27661a62",
   "metadata": {},
   "source": [
    "Sometimes we are interested in sorting or carving our data up, and doing stats on a part of it. We can use indexing for this. For example, we might just want the average of each species in our study"
   ]
  },
  {
   "cell_type": "markdown",
   "id": "a56ecdb1-3f3e-466a-ba70-f9c324648a89",
   "metadata": {},
   "source": [
    "Let's look at how to extract weights for either just the Deers or the Reindeers in our study"
   ]
  },
  {
   "cell_type": "code",
   "execution_count": null,
   "id": "9facde6b-0bcf-4f3f-8c63-21dd37d7b64d",
   "metadata": {},
   "outputs": [],
   "source": []
  },
  {
   "cell_type": "code",
   "execution_count": null,
   "id": "0e1c94c2-f61e-43c8-8066-db6a80b77ae0",
   "metadata": {},
   "outputs": [],
   "source": []
  },
  {
   "cell_type": "markdown",
   "id": "57b547cd-5282-4214-a1a2-297ad830097f",
   "metadata": {},
   "source": [
    "...so that we can compare the average weight"
   ]
  },
  {
   "cell_type": "code",
   "execution_count": null,
   "id": "9990886d-6ac5-4e29-85de-747d0ad4c3c1",
   "metadata": {},
   "outputs": [],
   "source": []
  },
  {
   "cell_type": "code",
   "execution_count": null,
   "id": "6689c4fe-896a-4e30-b11c-6956925256bf",
   "metadata": {},
   "outputs": [],
   "source": []
  },
  {
   "cell_type": "markdown",
   "id": "9f166575-3af4-4bff-9631-9916303268b5",
   "metadata": {},
   "source": [
    "Indexing is incredibly useful. You need to know it. But it is awkward for data frames. We can make a table instead using some basic data manipulation functions. This new table is a new data frame"
   ]
  },
  {
   "cell_type": "code",
   "execution_count": null,
   "id": "5cf24b76-ad38-4558-b685-1f0abb95f064",
   "metadata": {},
   "outputs": [],
   "source": []
  },
  {
   "cell_type": "code",
   "execution_count": null,
   "id": "91510085-e3e0-4206-8b29-6ebe57db237f",
   "metadata": {},
   "outputs": [],
   "source": []
  },
  {
   "cell_type": "markdown",
   "id": "f31aed63-90b9-497f-8baf-e034626dff8c",
   "metadata": {},
   "source": [
    "This is the exact same logic as with the plotting. First you define the data you are working on, then you sequentially operate on it. This is called \"piping\"."
   ]
  },
  {
   "cell_type": "markdown",
   "id": "cd8557f1-fb50-4db7-a6cc-834c89d809dd",
   "metadata": {},
   "source": [
    "The mean is only one statistic. We can also look at other statistics. How about the median?"
   ]
  },
  {
   "cell_type": "code",
   "execution_count": null,
   "id": "7184cb98-8833-4e9b-945d-73c6276a1e16",
   "metadata": {},
   "outputs": [],
   "source": []
  },
  {
   "cell_type": "code",
   "execution_count": null,
   "id": "edbc44e9-6df0-4ebe-8e99-f7afa84b17ea",
   "metadata": {},
   "outputs": [],
   "source": []
  },
  {
   "cell_type": "markdown",
   "id": "d83c236f-8520-4227-aa14-459142bd1c0a",
   "metadata": {},
   "source": [
    "We can also look at the standard deviation."
   ]
  },
  {
   "cell_type": "code",
   "execution_count": null,
   "id": "a56f9cc9-7436-4384-8568-5d171d4b3efb",
   "metadata": {},
   "outputs": [],
   "source": []
  },
  {
   "cell_type": "code",
   "execution_count": null,
   "id": "36645a7d-b6fc-41e8-bacc-3e748ab937e0",
   "metadata": {},
   "outputs": [],
   "source": []
  },
  {
   "cell_type": "markdown",
   "id": "7d9851c2-683b-4162-8228-8ca6df4e8645",
   "metadata": {},
   "source": [
    "Now we are almost ready to do some statistics. We will cover statistical concepts in the next lecture. BUt as a teaser, let's look at a quick comparison, and see if these means are really different."
   ]
  },
  {
   "cell_type": "code",
   "execution_count": null,
   "id": "34100bd1-d979-4fd9-a31b-c552ab8cd97c",
   "metadata": {},
   "outputs": [],
   "source": []
  },
  {
   "cell_type": "markdown",
   "id": "504a0793-73b2-481f-95ec-1f32b062a737",
   "metadata": {},
   "source": [
    "You have learned about indexing. You have learned about basic statistical functions. You have learned how to generate summary tables. You have run your first statistical simulation, and your first hypothesis test."
   ]
  }
 ],
 "metadata": {
  "kernelspec": {
   "display_name": "R",
   "language": "R",
   "name": "ir"
  },
  "language_info": {
   "codemirror_mode": "r",
   "file_extension": ".r",
   "mimetype": "text/x-r-source",
   "name": "R",
   "pygments_lexer": "r",
   "version": "4.4.1"
  }
 },
 "nbformat": 4,
 "nbformat_minor": 5
}
